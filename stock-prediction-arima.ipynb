{
 "cells": [
  {
   "cell_type": "code",
   "execution_count": 1,
   "metadata": {
    "_cell_guid": "b1076dfc-b9ad-4769-8c92-a6c4dae69d19",
    "_uuid": "8f2839f25d086af736a60e9eeb907d3b93b6e0e5",
    "execution": {
     "iopub.execute_input": "2021-12-26T15:37:56.966070Z",
     "iopub.status.busy": "2021-12-26T15:37:56.965455Z",
     "iopub.status.idle": "2021-12-26T15:37:56.973185Z",
     "shell.execute_reply": "2021-12-26T15:37:56.972239Z",
     "shell.execute_reply.started": "2021-12-26T15:37:56.966018Z"
    }
   },
   "outputs": [],
   "source": [
    "# This Python 3 environment comes with many helpful analytics libraries installed\n",
    "# It is defined by the kaggle/python Docker image: https://github.com/kaggle/docker-python\n",
    "# For example, here's several helpful packages to load\n",
    "\n",
    "import numpy as np # linear algebra\n",
    "import pandas as pd # data processing, CSV file I/O (e.g. pd.read_csv)\n",
    "\n",
    "# Input data files are available in the read-only \"../input/\" directory\n",
    "# For example, running this (by clicking run or pressing Shift+Enter) will list all files under the input directory\n",
    "\n",
    "import os\n",
    "for dirname, _, filenames in os.walk('/kaggle/input'):\n",
    "    for filename in filenames:\n",
    "        print(os.path.join(dirname, filename))\n",
    "\n",
    "# You can write up to 20GB to the current directory (/kaggle/working/) that gets preserved as output when you create a version using \"Save & Run All\" \n",
    "# You can also write temporary files to /kaggle/temp/, but they won't be saved outside of the current session"
   ]
  },
  {
   "cell_type": "markdown",
   "metadata": {},
   "source": [
    "https://www.machinelearningplus.com/time-series/arima-model-time-series-forecasting-python/ ARIMA forecast"
   ]
  },
  {
   "cell_type": "code",
   "execution_count": 2,
   "metadata": {
    "execution": {
     "iopub.execute_input": "2021-12-26T17:29:05.246586Z",
     "iopub.status.busy": "2021-12-26T17:29:05.246283Z",
     "iopub.status.idle": "2021-12-26T17:30:06.003454Z",
     "shell.execute_reply": "2021-12-26T17:30:06.002221Z",
     "shell.execute_reply.started": "2021-12-26T17:29:05.246552Z"
    }
   },
   "outputs": [
    {
     "data": {
      "text/plain": [
       "'\\n!pip install yfinance\\n!pip install finta\\n!pip install chart_studio\\n!pip install holidays\\n!pip install pmdarima\\n!pip install statsmodels --upgrade\\n'"
      ]
     },
     "execution_count": 2,
     "metadata": {},
     "output_type": "execute_result"
    }
   ],
   "source": [
    "\"\"\"\n",
    "!pip install yfinance\n",
    "!pip install finta\n",
    "!pip install chart_studio\n",
    "!pip install holidays\n",
    "!pip install pmdarima\n",
    "!pip install statsmodels --upgrade\n",
    "\"\"\""
   ]
  },
  {
   "cell_type": "code",
   "execution_count": 3,
   "metadata": {
    "execution": {
     "iopub.execute_input": "2021-12-26T17:35:04.260128Z",
     "iopub.status.busy": "2021-12-26T17:35:04.259809Z",
     "iopub.status.idle": "2021-12-26T17:35:04.274968Z",
     "shell.execute_reply": "2021-12-26T17:35:04.273750Z",
     "shell.execute_reply.started": "2021-12-26T17:35:04.260094Z"
    }
   },
   "outputs": [],
   "source": [
    "import pandas as pd\n",
    "import numpy as np\n",
    "import matplotlib.pyplot as plt\n",
    "from sklearn.preprocessing import MinMaxScaler\n",
    "from keras.models import Sequential, load_model\n",
    "from keras.layers import LSTM, Dense, Dropout\n",
    "import keras\n",
    "import tensorflow as tf\n",
    "from keras.preprocessing.sequence import TimeseriesGenerator\n",
    "\n",
    "import yfinance as yf\n",
    "import datetime\n",
    "import holidays\n",
    "from finta import TA\n",
    "\n",
    "import chart_studio.plotly as py\n",
    "from plotly.graph_objs import * \n",
    "import plotly.tools as tls\n",
    "import chart_studio.tools as ctls\n",
    "\n",
    "from pandas.plotting import lag_plot\n",
    "import datetime\n",
    "from statsmodels.tsa.arima_model import ARIMA\n",
    "from sklearn.metrics import mean_squared_error\n",
    "\n",
    "import logging\n",
    "\n",
    "logging.getLogger().setLevel(logging.ERROR)\n",
    "\n",
    "import plotly.express as px"
   ]
  },
  {
   "cell_type": "markdown",
   "metadata": {},
   "source": [
    "# Import/Download Data"
   ]
  },
  {
   "cell_type": "code",
   "execution_count": 4,
   "metadata": {
    "execution": {
     "iopub.execute_input": "2021-12-26T17:01:06.620070Z",
     "iopub.status.busy": "2021-12-26T17:01:06.619759Z",
     "iopub.status.idle": "2021-12-26T17:01:07.382992Z",
     "shell.execute_reply": "2021-12-26T17:01:07.382071Z",
     "shell.execute_reply.started": "2021-12-26T17:01:06.620037Z"
    }
   },
   "outputs": [
    {
     "name": "stdout",
     "output_type": "stream",
     "text": [
      "[*********************100%***********************]  1 of 1 completed\n"
     ]
    },
    {
     "data": {
      "text/html": [
       "<div>\n",
       "<style scoped>\n",
       "    .dataframe tbody tr th:only-of-type {\n",
       "        vertical-align: middle;\n",
       "    }\n",
       "\n",
       "    .dataframe tbody tr th {\n",
       "        vertical-align: top;\n",
       "    }\n",
       "\n",
       "    .dataframe thead th {\n",
       "        text-align: right;\n",
       "    }\n",
       "</style>\n",
       "<table border=\"1\" class=\"dataframe\">\n",
       "  <thead>\n",
       "    <tr style=\"text-align: right;\">\n",
       "      <th></th>\n",
       "      <th>open</th>\n",
       "      <th>high</th>\n",
       "      <th>low</th>\n",
       "      <th>close</th>\n",
       "      <th>Adj Close</th>\n",
       "      <th>volume</th>\n",
       "    </tr>\n",
       "    <tr>\n",
       "      <th>Date</th>\n",
       "      <th></th>\n",
       "      <th></th>\n",
       "      <th></th>\n",
       "      <th></th>\n",
       "      <th></th>\n",
       "      <th></th>\n",
       "    </tr>\n",
       "  </thead>\n",
       "  <tbody>\n",
       "    <tr>\n",
       "      <th>2022-06-13</th>\n",
       "      <td>192.990005</td>\n",
       "      <td>195.889999</td>\n",
       "      <td>191.080002</td>\n",
       "      <td>192.259995</td>\n",
       "      <td>192.259995</td>\n",
       "      <td>7119200</td>\n",
       "    </tr>\n",
       "    <tr>\n",
       "      <th>2022-06-14</th>\n",
       "      <td>192.720001</td>\n",
       "      <td>194.339996</td>\n",
       "      <td>191.750000</td>\n",
       "      <td>193.520004</td>\n",
       "      <td>193.520004</td>\n",
       "      <td>6441200</td>\n",
       "    </tr>\n",
       "    <tr>\n",
       "      <th>2022-06-15</th>\n",
       "      <td>195.979996</td>\n",
       "      <td>198.830002</td>\n",
       "      <td>192.229996</td>\n",
       "      <td>196.160004</td>\n",
       "      <td>196.160004</td>\n",
       "      <td>6490000</td>\n",
       "    </tr>\n",
       "    <tr>\n",
       "      <th>2022-06-16</th>\n",
       "      <td>191.410004</td>\n",
       "      <td>191.869995</td>\n",
       "      <td>187.529999</td>\n",
       "      <td>189.050003</td>\n",
       "      <td>189.050003</td>\n",
       "      <td>9887200</td>\n",
       "    </tr>\n",
       "    <tr>\n",
       "      <th>2022-06-17</th>\n",
       "      <td>186.929993</td>\n",
       "      <td>191.309998</td>\n",
       "      <td>185.910004</td>\n",
       "      <td>190.009995</td>\n",
       "      <td>190.009995</td>\n",
       "      <td>15087700</td>\n",
       "    </tr>\n",
       "  </tbody>\n",
       "</table>\n",
       "</div>"
      ],
      "text/plain": [
       "                  open        high         low       close   Adj Close  \\\n",
       "Date                                                                     \n",
       "2022-06-13  192.990005  195.889999  191.080002  192.259995  192.259995   \n",
       "2022-06-14  192.720001  194.339996  191.750000  193.520004  193.520004   \n",
       "2022-06-15  195.979996  198.830002  192.229996  196.160004  196.160004   \n",
       "2022-06-16  191.410004  191.869995  187.529999  189.050003  189.050003   \n",
       "2022-06-17  186.929993  191.309998  185.910004  190.009995  190.009995   \n",
       "\n",
       "              volume  \n",
       "Date                  \n",
       "2022-06-13   7119200  \n",
       "2022-06-14   6441200  \n",
       "2022-06-15   6490000  \n",
       "2022-06-16   9887200  \n",
       "2022-06-17  15087700  "
      ]
     },
     "execution_count": 4,
     "metadata": {},
     "output_type": "execute_result"
    }
   ],
   "source": [
    "\"\"\"\n",
    "Defining some constants for data mining\n",
    "\"\"\"\n",
    "\n",
    "NUM_DAYS = 10000     # The number of days of historical data to retrieve\n",
    "INTERVAL = '1d'     # Sample rate of historical data\n",
    "symbol = 'V'     # Symbol of the desired stock\n",
    "\n",
    "# List of symbols for technical indicators\n",
    "INDICATORS = ['RSI', 'MACD', 'STOCH','ADL', 'ATR', 'MOM', 'MFI', 'ROC', 'OBV', 'CCI', 'EMV', 'BASP', 'PIVOT_FIB', 'VORTEX']\n",
    "\n",
    "\"\"\"\n",
    "Pull the historical data using yfinance\n",
    "Rename the column names because finta uses the lowercase names\n",
    "\"\"\"\n",
    "\n",
    "start = (datetime.date.today() - datetime.timedelta( NUM_DAYS ) )\n",
    "end = datetime.datetime.today()\n",
    "\n",
    "df = yf.download(symbol, start=start, end=end, interval=INTERVAL)\n",
    "df.rename(columns={\"Close\": 'close', \"High\": 'high', \"Low\": 'low', 'Volume': 'volume', 'Open': 'open'}, inplace=True)\n",
    "df.tail()"
   ]
  },
  {
   "cell_type": "code",
   "execution_count": 5,
   "metadata": {
    "execution": {
     "iopub.execute_input": "2021-12-26T17:01:10.454744Z",
     "iopub.status.busy": "2021-12-26T17:01:10.454234Z",
     "iopub.status.idle": "2021-12-26T17:01:10.773300Z",
     "shell.execute_reply": "2021-12-26T17:01:10.772260Z",
     "shell.execute_reply.started": "2021-12-26T17:01:10.454694Z"
    }
   },
   "outputs": [
    {
     "data": {
      "text/plain": [
       "<AxesSubplot:title={'center':'Price for last 60days of V'}, xlabel='Date', ylabel='Price'>"
      ]
     },
     "execution_count": 5,
     "metadata": {},
     "output_type": "execute_result"
    },
    {
     "data": {
      "image/png": "[encoded data removed]",
      "text/plain": [
       "<Figure size 1440x504 with 1 Axes>"
      ]
     },
     "metadata": {
      "needs_background": "light"
     },
     "output_type": "display_data"
    }
   ],
   "source": [
    "#preview last 60 days\n",
    "plt.figure(figsize=(20,7))\n",
    "wmt_prev = df.iloc[-60:]\n",
    "wmt_prev['close'].plot(title = f\"Price for last 60days of {symbol}\", ylabel = \"Price\", grid = True)"
   ]
  },
  {
   "cell_type": "code",
   "execution_count": 6,
   "metadata": {
    "execution": {
     "iopub.execute_input": "2021-12-26T17:01:15.261469Z",
     "iopub.status.busy": "2021-12-26T17:01:15.261188Z",
     "iopub.status.idle": "2021-12-26T17:01:15.266328Z",
     "shell.execute_reply": "2021-12-26T17:01:15.265368Z",
     "shell.execute_reply.started": "2021-12-26T17:01:15.261439Z"
    }
   },
   "outputs": [],
   "source": [
    "df_copy = df.copy()"
   ]
  },
  {
   "cell_type": "code",
   "execution_count": 7,
   "metadata": {
    "execution": {
     "iopub.execute_input": "2021-12-26T17:01:15.505662Z",
     "iopub.status.busy": "2021-12-26T17:01:15.504853Z",
     "iopub.status.idle": "2021-12-26T17:01:15.523436Z",
     "shell.execute_reply": "2021-12-26T17:01:15.522756Z",
     "shell.execute_reply.started": "2021-12-26T17:01:15.505618Z"
    }
   },
   "outputs": [
    {
     "data": {
      "text/html": [
       "<div>\n",
       "<style scoped>\n",
       "    .dataframe tbody tr th:only-of-type {\n",
       "        vertical-align: middle;\n",
       "    }\n",
       "\n",
       "    .dataframe tbody tr th {\n",
       "        vertical-align: top;\n",
       "    }\n",
       "\n",
       "    .dataframe thead th {\n",
       "        text-align: right;\n",
       "    }\n",
       "</style>\n",
       "<table border=\"1\" class=\"dataframe\">\n",
       "  <thead>\n",
       "    <tr style=\"text-align: right;\">\n",
       "      <th></th>\n",
       "      <th>open</th>\n",
       "      <th>high</th>\n",
       "      <th>low</th>\n",
       "      <th>close</th>\n",
       "      <th>Adj Close</th>\n",
       "      <th>volume</th>\n",
       "    </tr>\n",
       "    <tr>\n",
       "      <th>Date</th>\n",
       "      <th></th>\n",
       "      <th></th>\n",
       "      <th></th>\n",
       "      <th></th>\n",
       "      <th></th>\n",
       "      <th></th>\n",
       "    </tr>\n",
       "  </thead>\n",
       "  <tbody>\n",
       "    <tr>\n",
       "      <th>2008-03-19</th>\n",
       "      <td>14.875000</td>\n",
       "      <td>17.250000</td>\n",
       "      <td>13.750000</td>\n",
       "      <td>14.125000</td>\n",
       "      <td>12.803708</td>\n",
       "      <td>708486000</td>\n",
       "    </tr>\n",
       "    <tr>\n",
       "      <th>2008-03-20</th>\n",
       "      <td>14.600000</td>\n",
       "      <td>16.250000</td>\n",
       "      <td>14.375000</td>\n",
       "      <td>16.087500</td>\n",
       "      <td>14.582631</td>\n",
       "      <td>198985200</td>\n",
       "    </tr>\n",
       "    <tr>\n",
       "      <th>2008-03-24</th>\n",
       "      <td>16.809999</td>\n",
       "      <td>16.924999</td>\n",
       "      <td>14.750000</td>\n",
       "      <td>14.932500</td>\n",
       "      <td>13.535672</td>\n",
       "      <td>149566400</td>\n",
       "    </tr>\n",
       "    <tr>\n",
       "      <th>2008-03-25</th>\n",
       "      <td>15.145000</td>\n",
       "      <td>16.062500</td>\n",
       "      <td>14.955000</td>\n",
       "      <td>15.812500</td>\n",
       "      <td>14.333352</td>\n",
       "      <td>87092000</td>\n",
       "    </tr>\n",
       "    <tr>\n",
       "      <th>2008-03-26</th>\n",
       "      <td>15.682500</td>\n",
       "      <td>16.120001</td>\n",
       "      <td>15.392500</td>\n",
       "      <td>15.990000</td>\n",
       "      <td>14.494256</td>\n",
       "      <td>43111600</td>\n",
       "    </tr>\n",
       "    <tr>\n",
       "      <th>...</th>\n",
       "      <td>...</td>\n",
       "      <td>...</td>\n",
       "      <td>...</td>\n",
       "      <td>...</td>\n",
       "      <td>...</td>\n",
       "      <td>...</td>\n",
       "    </tr>\n",
       "    <tr>\n",
       "      <th>2022-06-13</th>\n",
       "      <td>192.990005</td>\n",
       "      <td>195.889999</td>\n",
       "      <td>191.080002</td>\n",
       "      <td>192.259995</td>\n",
       "      <td>192.259995</td>\n",
       "      <td>7119200</td>\n",
       "    </tr>\n",
       "    <tr>\n",
       "      <th>2022-06-14</th>\n",
       "      <td>192.720001</td>\n",
       "      <td>194.339996</td>\n",
       "      <td>191.750000</td>\n",
       "      <td>193.520004</td>\n",
       "      <td>193.520004</td>\n",
       "      <td>6441200</td>\n",
       "    </tr>\n",
       "    <tr>\n",
       "      <th>2022-06-15</th>\n",
       "      <td>195.979996</td>\n",
       "      <td>198.830002</td>\n",
       "      <td>192.229996</td>\n",
       "      <td>196.160004</td>\n",
       "      <td>196.160004</td>\n",
       "      <td>6490000</td>\n",
       "    </tr>\n",
       "    <tr>\n",
       "      <th>2022-06-16</th>\n",
       "      <td>191.410004</td>\n",
       "      <td>191.869995</td>\n",
       "      <td>187.529999</td>\n",
       "      <td>189.050003</td>\n",
       "      <td>189.050003</td>\n",
       "      <td>9887200</td>\n",
       "    </tr>\n",
       "    <tr>\n",
       "      <th>2022-06-17</th>\n",
       "      <td>186.929993</td>\n",
       "      <td>191.309998</td>\n",
       "      <td>185.910004</td>\n",
       "      <td>190.009995</td>\n",
       "      <td>190.009995</td>\n",
       "      <td>15087700</td>\n",
       "    </tr>\n",
       "  </tbody>\n",
       "</table>\n",
       "<p>3589 rows × 6 columns</p>\n",
       "</div>"
      ],
      "text/plain": [
       "                  open        high         low       close   Adj Close  \\\n",
       "Date                                                                     \n",
       "2008-03-19   14.875000   17.250000   13.750000   14.125000   12.803708   \n",
       "2008-03-20   14.600000   16.250000   14.375000   16.087500   14.582631   \n",
       "2008-03-24   16.809999   16.924999   14.750000   14.932500   13.535672   \n",
       "2008-03-25   15.145000   16.062500   14.955000   15.812500   14.333352   \n",
       "2008-03-26   15.682500   16.120001   15.392500   15.990000   14.494256   \n",
       "...                ...         ...         ...         ...         ...   \n",
       "2022-06-13  192.990005  195.889999  191.080002  192.259995  192.259995   \n",
       "2022-06-14  192.720001  194.339996  191.750000  193.520004  193.520004   \n",
       "2022-06-15  195.979996  198.830002  192.229996  196.160004  196.160004   \n",
       "2022-06-16  191.410004  191.869995  187.529999  189.050003  189.050003   \n",
       "2022-06-17  186.929993  191.309998  185.910004  190.009995  190.009995   \n",
       "\n",
       "               volume  \n",
       "Date                   \n",
       "2008-03-19  708486000  \n",
       "2008-03-20  198985200  \n",
       "2008-03-24  149566400  \n",
       "2008-03-25   87092000  \n",
       "2008-03-26   43111600  \n",
       "...               ...  \n",
       "2022-06-13    7119200  \n",
       "2022-06-14    6441200  \n",
       "2022-06-15    6490000  \n",
       "2022-06-16    9887200  \n",
       "2022-06-17   15087700  \n",
       "\n",
       "[3589 rows x 6 columns]"
      ]
     },
     "execution_count": 7,
     "metadata": {},
     "output_type": "execute_result"
    }
   ],
   "source": [
    "df"
   ]
  },
  {
   "cell_type": "code",
   "execution_count": 8,
   "metadata": {
    "execution": {
     "iopub.execute_input": "2021-12-26T17:01:17.148772Z",
     "iopub.status.busy": "2021-12-26T17:01:17.147967Z",
     "iopub.status.idle": "2021-12-26T17:01:17.358053Z",
     "shell.execute_reply": "2021-12-26T17:01:17.357137Z",
     "shell.execute_reply.started": "2021-12-26T17:01:17.148732Z"
    }
   },
   "outputs": [
    {
     "data": {
      "image/png": "[encoded data removed]",
      "text/plain": [
       "<Figure size 432x288 with 1 Axes>"
      ]
     },
     "metadata": {
      "needs_background": "light"
     },
     "output_type": "display_data"
    }
   ],
   "source": [
    "plt.figure()\n",
    "lag_plot(df['open'], lag=3)\n",
    "plt.title('TESLA Stock - Autocorrelation plot with lag = 3')\n",
    "plt.show()"
   ]
  },
  {
   "cell_type": "code",
   "execution_count": 9,
   "metadata": {
    "execution": {
     "iopub.execute_input": "2021-12-26T17:01:20.954894Z",
     "iopub.status.busy": "2021-12-26T17:01:20.954378Z",
     "iopub.status.idle": "2021-12-26T17:01:21.238604Z",
     "shell.execute_reply": "2021-12-26T17:01:21.238007Z",
     "shell.execute_reply.started": "2021-12-26T17:01:20.954842Z"
    }
   },
   "outputs": [
    {
     "data": {
      "image/png": "[encoded data removed]",
      "text/plain": [
       "<Figure size 1440x504 with 1 Axes>"
      ]
     },
     "metadata": {
      "needs_background": "light"
     },
     "output_type": "display_data"
    }
   ],
   "source": [
    "plt.figure(figsize=(20,7))\n",
    "plt.plot(df.index, df[\"close\"])\n",
    "#plt.xticks(np.arange(0,1259, 200), df.index[0:1259:200])\n",
    "plt.title(\"TESLA stock price over time\")\n",
    "plt.xlabel(\"time\")\n",
    "plt.ylabel(\"price\")\n",
    "plt.show()"
   ]
  },
  {
   "cell_type": "markdown",
   "metadata": {},
   "source": [
    "# ARIMA MODEL"
   ]
  },
  {
   "cell_type": "code",
   "execution_count": 10,
   "metadata": {
    "execution": {
     "iopub.execute_input": "2021-12-26T17:58:31.129734Z",
     "iopub.status.busy": "2021-12-26T17:58:31.129394Z",
     "iopub.status.idle": "2021-12-26T18:00:52.675015Z",
     "shell.execute_reply": "2021-12-26T18:00:52.666497Z",
     "shell.execute_reply.started": "2021-12-26T17:58:31.129666Z"
    },
    "scrolled": false
   },
   "outputs": [
    {
     "name": "stderr",
     "output_type": "stream",
     "text": [
      "C:\\Users\\RaimiAzeez\\anaconda3\\lib\\site-packages\\statsmodels\\tsa\\arima_model.py:472: FutureWarning:\n",
      "\n",
      "\n",
      "statsmodels.tsa.arima_model.ARMA and statsmodels.tsa.arima_model.ARIMA have\n",
      "been deprecated in favor of statsmodels.tsa.arima.model.ARIMA (note the .\n",
      "between arima and model) and\n",
      "statsmodels.tsa.SARIMAX. These will be removed after the 0.12 release.\n",
      "\n",
      "statsmodels.tsa.arima.model.ARIMA makes use of the statespace framework and\n",
      "is both well tested and maintained.\n",
      "\n",
      "To silence this warning and continue using ARMA and ARIMA until they are\n",
      "removed, use:\n",
      "\n",
      "import warnings\n",
      "warnings.filterwarnings('ignore', 'statsmodels.tsa.arima_model.ARMA',\n",
      "                        FutureWarning)\n",
      "warnings.filterwarnings('ignore', 'statsmodels.tsa.arima_model.ARIMA',\n",
      "                        FutureWarning)\n",
      "\n",
      "\n"
     ]
    },
    {
     "name": "stdout",
     "output_type": "stream",
     "text": [
      "Testing Mean Squared Error is 11.887525330808302\n",
      "                             ARIMA Model Results                              \n",
      "==============================================================================\n",
      "Dep. Variable:                    D.y   No. Observations:                 3587\n",
      "Model:                 ARIMA(4, 1, 0)   Log Likelihood               -7502.859\n",
      "Method:                       css-mle   S.D. of innovations              1.960\n",
      "Date:                Tue, 21 Jun 2022   AIC                          15017.719\n",
      "Time:                        14:28:01   BIC                          15054.829\n",
      "Sample:                             1   HQIC                         15030.947\n",
      "                                                                              \n",
      "==============================================================================\n",
      "                 coef    std err          z      P>|z|      [0.025      0.975]\n",
      "------------------------------------------------------------------------------\n",
      "const          0.0490      0.028      1.750      0.080      -0.006       0.104\n",
      "ar.L1.D.y     -0.1131      0.017     -6.777      0.000      -0.146      -0.080\n",
      "ar.L2.D.y      0.0278      0.017      1.655      0.098      -0.005       0.061\n",
      "ar.L3.D.y     -0.0184      0.017     -1.094      0.274      -0.051       0.015\n",
      "ar.L4.D.y     -0.0642      0.017     -3.841      0.000      -0.097      -0.031\n",
      "                                    Roots                                    \n",
      "=============================================================================\n",
      "                  Real          Imaginary           Modulus         Frequency\n",
      "-----------------------------------------------------------------------------\n",
      "AR.1           -1.5160           -1.2406j            1.9589           -0.3908\n",
      "AR.2           -1.5160           +1.2406j            1.9589            0.3908\n",
      "AR.3            1.3731           -1.4734j            2.0141           -0.1306\n",
      "AR.4            1.3731           +1.4734j            2.0141            0.1306\n",
      "-----------------------------------------------------------------------------\n"
     ]
    }
   ],
   "source": [
    "#silence annoying warnings\n",
    "import warnings\n",
    "warnings.filterwarnings('ignore', 'statsmodels.tsa.arima_model.ARMA',\n",
    "                        FutureWarning)\n",
    "\n",
    "\n",
    "\n",
    "#split dataset\n",
    "train_data, test_data = df[0:int(len(df)*0.7)], df[int(len(df)*0.7):]\n",
    "training_data = train_data['close'].values\n",
    "test_data = test_data['close'].values\n",
    "\n",
    "#Build model\n",
    "history = [x for x in training_data]\n",
    "model_predictions = []\n",
    "N_test_observations = len(test_data)\n",
    "for time_point in range(N_test_observations):\n",
    "    model = ARIMA(history, order=(4,1,0))\n",
    "    model_fit = model.fit(disp=0)\n",
    "    output = model_fit.forecast(alpha = 0.05)\n",
    "    yhat = output[0]\n",
    "    model_predictions.append(yhat)\n",
    "    true_test_value = test_data[time_point]\n",
    "    history.append(true_test_value)\n",
    "    \n",
    "#Evaluate\n",
    "MSE_error = mean_squared_error(test_data, model_predictions)\n",
    "print('Testing Mean Squared Error is {}'.format(MSE_error))\n",
    "print(model_fit.summary())"
   ]
  },
  {
   "cell_type": "code",
   "execution_count": 11,
   "metadata": {
    "execution": {
     "iopub.execute_input": "2021-12-26T18:06:54.889813Z",
     "iopub.status.busy": "2021-12-26T18:06:54.889336Z",
     "iopub.status.idle": "2021-12-26T18:09:16.093950Z",
     "shell.execute_reply": "2021-12-26T18:09:16.092941Z",
     "shell.execute_reply.started": "2021-12-26T18:06:54.889780Z"
    }
   },
   "outputs": [
    {
     "name": "stderr",
     "output_type": "stream",
     "text": [
      "C:\\Users\\RaimiAzeez\\anaconda3\\lib\\site-packages\\statsmodels\\tsa\\arima_model.py:472: FutureWarning:\n",
      "\n",
      "\n",
      "statsmodels.tsa.arima_model.ARMA and statsmodels.tsa.arima_model.ARIMA have\n",
      "been deprecated in favor of statsmodels.tsa.arima.model.ARIMA (note the .\n",
      "between arima and model) and\n",
      "statsmodels.tsa.SARIMAX. These will be removed after the 0.12 release.\n",
      "\n",
      "statsmodels.tsa.arima.model.ARIMA makes use of the statespace framework and\n",
      "is both well tested and maintained.\n",
      "\n",
      "To silence this warning and continue using ARMA and ARIMA until they are\n",
      "removed, use:\n",
      "\n",
      "import warnings\n",
      "warnings.filterwarnings('ignore', 'statsmodels.tsa.arima_model.ARMA',\n",
      "                        FutureWarning)\n",
      "warnings.filterwarnings('ignore', 'statsmodels.tsa.arima_model.ARIMA',\n",
      "                        FutureWarning)\n",
      "\n",
      "\n"
     ]
    },
    {
     "name": "stdout",
     "output_type": "stream",
     "text": [
      "Testing Mean Squared Error is 11.887525330808302\n",
      "                             ARIMA Model Results                              \n",
      "==============================================================================\n",
      "Dep. Variable:                    D.y   No. Observations:                 3587\n",
      "Model:                 ARIMA(4, 1, 0)   Log Likelihood               -7502.859\n",
      "Method:                       css-mle   S.D. of innovations              1.960\n",
      "Date:                Tue, 21 Jun 2022   AIC                          15017.719\n",
      "Time:                        14:30:45   BIC                          15054.829\n",
      "Sample:                             1   HQIC                         15030.947\n",
      "                                                                              \n",
      "==============================================================================\n",
      "                 coef    std err          z      P>|z|      [0.025      0.975]\n",
      "------------------------------------------------------------------------------\n",
      "const          0.0490      0.028      1.750      0.080      -0.006       0.104\n",
      "ar.L1.D.y     -0.1131      0.017     -6.777      0.000      -0.146      -0.080\n",
      "ar.L2.D.y      0.0278      0.017      1.655      0.098      -0.005       0.061\n",
      "ar.L3.D.y     -0.0184      0.017     -1.094      0.274      -0.051       0.015\n",
      "ar.L4.D.y     -0.0642      0.017     -3.841      0.000      -0.097      -0.031\n",
      "                                    Roots                                    \n",
      "=============================================================================\n",
      "                  Real          Imaginary           Modulus         Frequency\n",
      "-----------------------------------------------------------------------------\n",
      "AR.1           -1.5160           -1.2406j            1.9589           -0.3908\n",
      "AR.2           -1.5160           +1.2406j            1.9589            0.3908\n",
      "AR.3            1.3731           -1.4734j            2.0141           -0.1306\n",
      "AR.4            1.3731           +1.4734j            2.0141            0.1306\n",
      "-----------------------------------------------------------------------------\n"
     ]
    }
   ],
   "source": [
    "#silence annoying warnings\n",
    "import warnings\n",
    "warnings.filterwarnings('ignore', 'statsmodels.tsa.arima_model.ARMA',\n",
    "                        FutureWarning)\n",
    "\n",
    "\n",
    "#split dataset\n",
    "train_data, test_data = df[0:int(len(df)*0.7)], df[int(len(df)*0.7):]\n",
    "training_data = train_data['close'].values\n",
    "test_data = test_data['close'].values\n",
    "\n",
    "#Build model\n",
    "history = [x for x in training_data]\n",
    "model_predictions = []\n",
    "lower = []\n",
    "upper = []\n",
    "N_test_observations = len(test_data)\n",
    "for time_point in range(N_test_observations):\n",
    "    model = ARIMA(history, order=(4,1,0))\n",
    "    model_fit = model.fit(disp=0)\n",
    "    output, se, conf = model_fit.forecast(alpha = 0.05)\n",
    "    yhat = output\n",
    "    low = conf[:,0]\n",
    "    up = conf[:,1]\n",
    "    model_predictions.append(yhat)\n",
    "    lower.append(low)\n",
    "    upper.append(up)\n",
    "    true_test_value = test_data[time_point]\n",
    "    history.append(true_test_value)\n",
    "    \n",
    "#Evaluate\n",
    "MSE_error = mean_squared_error(test_data, model_predictions)\n",
    "print('Testing Mean Squared Error is {}'.format(MSE_error))\n",
    "print(model_fit.summary())"
   ]
  },
  {
   "cell_type": "code",
   "execution_count": 12,
   "metadata": {
    "execution": {
     "iopub.execute_input": "2021-12-26T18:09:42.527891Z",
     "iopub.status.busy": "2021-12-26T18:09:42.526947Z",
     "iopub.status.idle": "2021-12-26T18:09:42.938804Z",
     "shell.execute_reply": "2021-12-26T18:09:42.937772Z",
     "shell.execute_reply.started": "2021-12-26T18:09:42.527833Z"
    }
   },
   "outputs": [
    {
     "data": {
      "image/png": "[encoded data removed]",
      "text/plain": [
       "<Figure size 1296x360 with 2 Axes>"
      ]
     },
     "metadata": {
      "needs_background": "light"
     },
     "output_type": "display_data"
    }
   ],
   "source": [
    "# Plot residual errors\n",
    "\n",
    "residuals = pd.DataFrame(model_fit.resid)\n",
    "fig, ax = plt.subplots(1,2, figsize=(18,5))\n",
    "residuals.plot(title=\"Residuals\", ax=ax[0])\n",
    "residuals.plot(kind='kde', title='Density', ax=ax[1])\n",
    "plt.show()"
   ]
  },
  {
   "cell_type": "code",
   "execution_count": 13,
   "metadata": {
    "execution": {
     "iopub.execute_input": "2021-12-26T18:46:37.796624Z",
     "iopub.status.busy": "2021-12-26T18:46:37.796281Z",
     "iopub.status.idle": "2021-12-26T18:46:37.825044Z",
     "shell.execute_reply": "2021-12-26T18:46:37.823718Z",
     "shell.execute_reply.started": "2021-12-26T18:46:37.796590Z"
    }
   },
   "outputs": [
    {
     "data": {
      "text/html": [
       "<div>\n",
       "<style scoped>\n",
       "    .dataframe tbody tr th:only-of-type {\n",
       "        vertical-align: middle;\n",
       "    }\n",
       "\n",
       "    .dataframe tbody tr th {\n",
       "        vertical-align: top;\n",
       "    }\n",
       "\n",
       "    .dataframe thead th {\n",
       "        text-align: right;\n",
       "    }\n",
       "</style>\n",
       "<table border=\"1\" class=\"dataframe\">\n",
       "  <thead>\n",
       "    <tr style=\"text-align: right;\">\n",
       "      <th></th>\n",
       "      <th>Price</th>\n",
       "      <th>Predictions</th>\n",
       "      <th>Lower</th>\n",
       "      <th>Upper</th>\n",
       "    </tr>\n",
       "  </thead>\n",
       "  <tbody>\n",
       "    <tr>\n",
       "      <th>0</th>\n",
       "      <td>124.239998</td>\n",
       "      <td>124.080487</td>\n",
       "      <td>122.684549</td>\n",
       "      <td>125.476424</td>\n",
       "    </tr>\n",
       "    <tr>\n",
       "      <th>1</th>\n",
       "      <td>123.199997</td>\n",
       "      <td>123.371729</td>\n",
       "      <td>121.975647</td>\n",
       "      <td>124.767810</td>\n",
       "    </tr>\n",
       "    <tr>\n",
       "      <th>2</th>\n",
       "      <td>122.580002</td>\n",
       "      <td>122.730980</td>\n",
       "      <td>121.334835</td>\n",
       "      <td>124.127125</td>\n",
       "    </tr>\n",
       "    <tr>\n",
       "      <th>3</th>\n",
       "      <td>123.410004</td>\n",
       "      <td>123.455957</td>\n",
       "      <td>122.059838</td>\n",
       "      <td>124.852075</td>\n",
       "    </tr>\n",
       "    <tr>\n",
       "      <th>4</th>\n",
       "      <td>124.529999</td>\n",
       "      <td>124.431322</td>\n",
       "      <td>123.034852</td>\n",
       "      <td>125.827792</td>\n",
       "    </tr>\n",
       "    <tr>\n",
       "      <th>...</th>\n",
       "      <td>...</td>\n",
       "      <td>...</td>\n",
       "      <td>...</td>\n",
       "      <td>...</td>\n",
       "    </tr>\n",
       "    <tr>\n",
       "      <th>1072</th>\n",
       "      <td>192.259995</td>\n",
       "      <td>193.153134</td>\n",
       "      <td>189.319380</td>\n",
       "      <td>196.986887</td>\n",
       "    </tr>\n",
       "    <tr>\n",
       "      <th>1073</th>\n",
       "      <td>193.520004</td>\n",
       "      <td>193.859569</td>\n",
       "      <td>190.026332</td>\n",
       "      <td>197.692806</td>\n",
       "    </tr>\n",
       "    <tr>\n",
       "      <th>1074</th>\n",
       "      <td>196.160004</td>\n",
       "      <td>196.576736</td>\n",
       "      <td>192.743304</td>\n",
       "      <td>200.410169</td>\n",
       "    </tr>\n",
       "    <tr>\n",
       "      <th>1075</th>\n",
       "      <td>189.050003</td>\n",
       "      <td>190.427558</td>\n",
       "      <td>186.586822</td>\n",
       "      <td>194.268294</td>\n",
       "    </tr>\n",
       "    <tr>\n",
       "      <th>1076</th>\n",
       "      <td>190.009995</td>\n",
       "      <td>NaN</td>\n",
       "      <td>NaN</td>\n",
       "      <td>NaN</td>\n",
       "    </tr>\n",
       "  </tbody>\n",
       "</table>\n",
       "<p>1077 rows × 4 columns</p>\n",
       "</div>"
      ],
      "text/plain": [
       "           Price  Predictions       Lower       Upper\n",
       "0     124.239998   124.080487  122.684549  125.476424\n",
       "1     123.199997   123.371729  121.975647  124.767810\n",
       "2     122.580002   122.730980  121.334835  124.127125\n",
       "3     123.410004   123.455957  122.059838  124.852075\n",
       "4     124.529999   124.431322  123.034852  125.827792\n",
       "...          ...          ...         ...         ...\n",
       "1072  192.259995   193.153134  189.319380  196.986887\n",
       "1073  193.520004   193.859569  190.026332  197.692806\n",
       "1074  196.160004   196.576736  192.743304  200.410169\n",
       "1075  189.050003   190.427558  186.586822  194.268294\n",
       "1076  190.009995          NaN         NaN         NaN\n",
       "\n",
       "[1077 rows x 4 columns]"
      ]
     },
     "execution_count": 13,
     "metadata": {},
     "output_type": "execute_result"
    }
   ],
   "source": [
    "li = [float(i) for i in model_predictions]\n",
    "low = [float(i) for i in lower]\n",
    "up = [float(i) for i in upper]\n",
    "\n",
    "\n",
    "td = pd.DataFrame(test_data, columns = [\"Price\"])\n",
    "td[\"Predictions\"] = li\n",
    "td[\"Lower\"] = low\n",
    "td[\"Upper\"] = up\n",
    "td['Predictions'] = td['Predictions'].shift(-1)\n",
    "td['Lower'] = td['Lower'].shift(-1)\n",
    "td['Upper'] = td['Upper'].shift(-1)\n",
    "\n",
    "\n",
    "td"
   ]
  },
  {
   "cell_type": "code",
   "execution_count": 14,
   "metadata": {
    "execution": {
     "iopub.execute_input": "2021-12-26T18:52:04.115316Z",
     "iopub.status.busy": "2021-12-26T18:52:04.114176Z",
     "iopub.status.idle": "2021-12-26T18:52:04.272007Z",
     "shell.execute_reply": "2021-12-26T18:52:04.271426Z",
     "shell.execute_reply.started": "2021-12-26T18:52:04.115273Z"
    }
   },
   "outputs": [
    {
     "name": "stderr",
     "output_type": "stream",
     "text": [
      "C:\\Users\\RaimiAzeez\\anaconda3\\lib\\site-packages\\statsmodels\\tsa\\arima_model.py:472: FutureWarning:\n",
      "\n",
      "\n",
      "statsmodels.tsa.arima_model.ARMA and statsmodels.tsa.arima_model.ARIMA have\n",
      "been deprecated in favor of statsmodels.tsa.arima.model.ARIMA (note the .\n",
      "between arima and model) and\n",
      "statsmodels.tsa.SARIMAX. These will be removed after the 0.12 release.\n",
      "\n",
      "statsmodels.tsa.arima.model.ARIMA makes use of the statespace framework and\n",
      "is both well tested and maintained.\n",
      "\n",
      "To silence this warning and continue using ARMA and ARIMA until they are\n",
      "removed, use:\n",
      "\n",
      "import warnings\n",
      "warnings.filterwarnings('ignore', 'statsmodels.tsa.arima_model.ARMA',\n",
      "                        FutureWarning)\n",
      "warnings.filterwarnings('ignore', 'statsmodels.tsa.arima_model.ARIMA',\n",
      "                        FutureWarning)\n",
      "\n",
      "\n"
     ]
    },
    {
     "data": {
      "text/html": [
       "<div>\n",
       "<style scoped>\n",
       "    .dataframe tbody tr th:only-of-type {\n",
       "        vertical-align: middle;\n",
       "    }\n",
       "\n",
       "    .dataframe tbody tr th {\n",
       "        vertical-align: top;\n",
       "    }\n",
       "\n",
       "    .dataframe thead th {\n",
       "        text-align: right;\n",
       "    }\n",
       "</style>\n",
       "<table border=\"1\" class=\"dataframe\">\n",
       "  <thead>\n",
       "    <tr style=\"text-align: right;\">\n",
       "      <th></th>\n",
       "      <th>Price</th>\n",
       "      <th>Predictions</th>\n",
       "      <th>Lower</th>\n",
       "      <th>Upper</th>\n",
       "    </tr>\n",
       "  </thead>\n",
       "  <tbody>\n",
       "    <tr>\n",
       "      <th>0</th>\n",
       "      <td>124.239998</td>\n",
       "      <td>124.080487</td>\n",
       "      <td>122.684549</td>\n",
       "      <td>125.476424</td>\n",
       "    </tr>\n",
       "    <tr>\n",
       "      <th>1</th>\n",
       "      <td>123.199997</td>\n",
       "      <td>123.371729</td>\n",
       "      <td>121.975647</td>\n",
       "      <td>124.767810</td>\n",
       "    </tr>\n",
       "    <tr>\n",
       "      <th>2</th>\n",
       "      <td>122.580002</td>\n",
       "      <td>122.730980</td>\n",
       "      <td>121.334835</td>\n",
       "      <td>124.127125</td>\n",
       "    </tr>\n",
       "    <tr>\n",
       "      <th>3</th>\n",
       "      <td>123.410004</td>\n",
       "      <td>123.455957</td>\n",
       "      <td>122.059838</td>\n",
       "      <td>124.852075</td>\n",
       "    </tr>\n",
       "    <tr>\n",
       "      <th>4</th>\n",
       "      <td>124.529999</td>\n",
       "      <td>124.431322</td>\n",
       "      <td>123.034852</td>\n",
       "      <td>125.827792</td>\n",
       "    </tr>\n",
       "    <tr>\n",
       "      <th>...</th>\n",
       "      <td>...</td>\n",
       "      <td>...</td>\n",
       "      <td>...</td>\n",
       "      <td>...</td>\n",
       "    </tr>\n",
       "    <tr>\n",
       "      <th>1072</th>\n",
       "      <td>192.259995</td>\n",
       "      <td>193.153134</td>\n",
       "      <td>189.319380</td>\n",
       "      <td>196.986887</td>\n",
       "    </tr>\n",
       "    <tr>\n",
       "      <th>1073</th>\n",
       "      <td>193.520004</td>\n",
       "      <td>193.859569</td>\n",
       "      <td>190.026332</td>\n",
       "      <td>197.692806</td>\n",
       "    </tr>\n",
       "    <tr>\n",
       "      <th>1074</th>\n",
       "      <td>196.160004</td>\n",
       "      <td>196.576736</td>\n",
       "      <td>192.743304</td>\n",
       "      <td>200.410169</td>\n",
       "    </tr>\n",
       "    <tr>\n",
       "      <th>1075</th>\n",
       "      <td>189.050003</td>\n",
       "      <td>190.427558</td>\n",
       "      <td>186.586822</td>\n",
       "      <td>194.268294</td>\n",
       "    </tr>\n",
       "    <tr>\n",
       "      <th>1076</th>\n",
       "      <td>190.009995</td>\n",
       "      <td>189.632333</td>\n",
       "      <td>185.792108</td>\n",
       "      <td>193.472558</td>\n",
       "    </tr>\n",
       "  </tbody>\n",
       "</table>\n",
       "<p>1077 rows × 4 columns</p>\n",
       "</div>"
      ],
      "text/plain": [
       "           Price  Predictions       Lower       Upper\n",
       "0     124.239998   124.080487  122.684549  125.476424\n",
       "1     123.199997   123.371729  121.975647  124.767810\n",
       "2     122.580002   122.730980  121.334835  124.127125\n",
       "3     123.410004   123.455957  122.059838  124.852075\n",
       "4     124.529999   124.431322  123.034852  125.827792\n",
       "...          ...          ...         ...         ...\n",
       "1072  192.259995   193.153134  189.319380  196.986887\n",
       "1073  193.520004   193.859569  190.026332  197.692806\n",
       "1074  196.160004   196.576736  192.743304  200.410169\n",
       "1075  189.050003   190.427558  186.586822  194.268294\n",
       "1076  190.009995   189.632333  185.792108  193.472558\n",
       "\n",
       "[1077 rows x 4 columns]"
      ]
     },
     "execution_count": 14,
     "metadata": {},
     "output_type": "execute_result"
    }
   ],
   "source": [
    "#forcast last day\n",
    "#history = [x for x in training_data]\n",
    "test_model_predictions = []\n",
    "N_test_observations = len(test_data)\n",
    "model = ARIMA(df.close.values, order=(4,1,0))\n",
    "model_fit = model.fit(disp=0)\n",
    "output, se, conf = model_fit.forecast(alpha = 0.05)\n",
    "yhat = output\n",
    "low = conf[:,0]\n",
    "up = conf[:,1]\n",
    "\n",
    "yhat = [float(i) for i in yhat]\n",
    "low = [float(i) for i in low]\n",
    "up = [float(i) for i in up]\n",
    "\n",
    "td.Predictions.values[-1] = yhat[0]\n",
    "td.Lower.values[-1] = low[0]\n",
    "td.Upper.values[-1] = up[0]\n",
    "\n",
    "td"
   ]
  },
  {
   "cell_type": "code",
   "execution_count": 15,
   "metadata": {
    "execution": {
     "iopub.execute_input": "2021-12-26T18:53:14.795919Z",
     "iopub.status.busy": "2021-12-26T18:53:14.795558Z",
     "iopub.status.idle": "2021-12-26T18:53:14.812569Z",
     "shell.execute_reply": "2021-12-26T18:53:14.811662Z",
     "shell.execute_reply.started": "2021-12-26T18:53:14.795882Z"
    }
   },
   "outputs": [
    {
     "data": {
      "text/html": [
       "<div>\n",
       "<style scoped>\n",
       "    .dataframe tbody tr th:only-of-type {\n",
       "        vertical-align: middle;\n",
       "    }\n",
       "\n",
       "    .dataframe tbody tr th {\n",
       "        vertical-align: top;\n",
       "    }\n",
       "\n",
       "    .dataframe thead th {\n",
       "        text-align: right;\n",
       "    }\n",
       "</style>\n",
       "<table border=\"1\" class=\"dataframe\">\n",
       "  <thead>\n",
       "    <tr style=\"text-align: right;\">\n",
       "      <th></th>\n",
       "      <th>Price</th>\n",
       "      <th>Predictions</th>\n",
       "      <th>Lower</th>\n",
       "      <th>Upper</th>\n",
       "    </tr>\n",
       "  </thead>\n",
       "  <tbody>\n",
       "    <tr>\n",
       "      <th>0</th>\n",
       "      <td>124.239998</td>\n",
       "      <td>124.080487</td>\n",
       "      <td>122.684549</td>\n",
       "      <td>125.476424</td>\n",
       "    </tr>\n",
       "    <tr>\n",
       "      <th>1</th>\n",
       "      <td>123.199997</td>\n",
       "      <td>123.371729</td>\n",
       "      <td>121.975647</td>\n",
       "      <td>124.767810</td>\n",
       "    </tr>\n",
       "    <tr>\n",
       "      <th>2</th>\n",
       "      <td>122.580002</td>\n",
       "      <td>122.730980</td>\n",
       "      <td>121.334835</td>\n",
       "      <td>124.127125</td>\n",
       "    </tr>\n",
       "    <tr>\n",
       "      <th>3</th>\n",
       "      <td>123.410004</td>\n",
       "      <td>123.455957</td>\n",
       "      <td>122.059838</td>\n",
       "      <td>124.852075</td>\n",
       "    </tr>\n",
       "    <tr>\n",
       "      <th>4</th>\n",
       "      <td>124.529999</td>\n",
       "      <td>124.431322</td>\n",
       "      <td>123.034852</td>\n",
       "      <td>125.827792</td>\n",
       "    </tr>\n",
       "    <tr>\n",
       "      <th>...</th>\n",
       "      <td>...</td>\n",
       "      <td>...</td>\n",
       "      <td>...</td>\n",
       "      <td>...</td>\n",
       "    </tr>\n",
       "    <tr>\n",
       "      <th>1072</th>\n",
       "      <td>192.259995</td>\n",
       "      <td>193.153134</td>\n",
       "      <td>189.319380</td>\n",
       "      <td>196.986887</td>\n",
       "    </tr>\n",
       "    <tr>\n",
       "      <th>1073</th>\n",
       "      <td>193.520004</td>\n",
       "      <td>193.859569</td>\n",
       "      <td>190.026332</td>\n",
       "      <td>197.692806</td>\n",
       "    </tr>\n",
       "    <tr>\n",
       "      <th>1074</th>\n",
       "      <td>196.160004</td>\n",
       "      <td>196.576736</td>\n",
       "      <td>192.743304</td>\n",
       "      <td>200.410169</td>\n",
       "    </tr>\n",
       "    <tr>\n",
       "      <th>1075</th>\n",
       "      <td>189.050003</td>\n",
       "      <td>190.427558</td>\n",
       "      <td>186.586822</td>\n",
       "      <td>194.268294</td>\n",
       "    </tr>\n",
       "    <tr>\n",
       "      <th>1076</th>\n",
       "      <td>190.009995</td>\n",
       "      <td>189.632333</td>\n",
       "      <td>185.792108</td>\n",
       "      <td>193.472558</td>\n",
       "    </tr>\n",
       "  </tbody>\n",
       "</table>\n",
       "<p>1077 rows × 4 columns</p>\n",
       "</div>"
      ],
      "text/plain": [
       "           Price  Predictions       Lower       Upper\n",
       "0     124.239998   124.080487  122.684549  125.476424\n",
       "1     123.199997   123.371729  121.975647  124.767810\n",
       "2     122.580002   122.730980  121.334835  124.127125\n",
       "3     123.410004   123.455957  122.059838  124.852075\n",
       "4     124.529999   124.431322  123.034852  125.827792\n",
       "...          ...          ...         ...         ...\n",
       "1072  192.259995   193.153134  189.319380  196.986887\n",
       "1073  193.520004   193.859569  190.026332  197.692806\n",
       "1074  196.160004   196.576736  192.743304  200.410169\n",
       "1075  189.050003   190.427558  186.586822  194.268294\n",
       "1076  190.009995   189.632333  185.792108  193.472558\n",
       "\n",
       "[1077 rows x 4 columns]"
      ]
     },
     "execution_count": 15,
     "metadata": {},
     "output_type": "execute_result"
    }
   ],
   "source": [
    "td"
   ]
  },
  {
   "cell_type": "code",
   "execution_count": 16,
   "metadata": {
    "execution": {
     "iopub.execute_input": "2021-12-26T18:56:37.278768Z",
     "iopub.status.busy": "2021-12-26T18:56:37.278413Z",
     "iopub.status.idle": "2021-12-26T18:56:37.612735Z",
     "shell.execute_reply": "2021-12-26T18:56:37.611455Z",
     "shell.execute_reply.started": "2021-12-26T18:56:37.278723Z"
    }
   },
   "outputs": [
    {
     "ename": "NameError",
     "evalue": "name 'test_set_range' is not defined",
     "output_type": "error",
     "traceback": [
      "\u001b[1;31m---------------------------------------------------------------------------\u001b[0m",
      "\u001b[1;31mNameError\u001b[0m                                 Traceback (most recent call last)",
      "\u001b[1;32mC:\\Users\\RAIMIA~1\\AppData\\Local\\Temp/ipykernel_11460/4278016765.py\u001b[0m in \u001b[0;36m<module>\u001b[1;34m\u001b[0m\n\u001b[0;32m     11\u001b[0m \u001b[1;33m\u001b[0m\u001b[0m\n\u001b[0;32m     12\u001b[0m \u001b[0mplt\u001b[0m\u001b[1;33m.\u001b[0m\u001b[0mfigure\u001b[0m\u001b[1;33m(\u001b[0m\u001b[0mfigsize\u001b[0m\u001b[1;33m=\u001b[0m\u001b[1;33m(\u001b[0m\u001b[1;36m20\u001b[0m\u001b[1;33m,\u001b[0m\u001b[1;36m7\u001b[0m\u001b[1;33m)\u001b[0m\u001b[1;33m)\u001b[0m\u001b[1;33m\u001b[0m\u001b[1;33m\u001b[0m\u001b[0m\n\u001b[1;32m---> 13\u001b[1;33m \u001b[0mplt\u001b[0m\u001b[1;33m.\u001b[0m\u001b[0mplot\u001b[0m\u001b[1;33m(\u001b[0m\u001b[0mtest_set_range\u001b[0m\u001b[1;33m,\u001b[0m \u001b[0mtd\u001b[0m\u001b[1;33m.\u001b[0m\u001b[0mPredictions\u001b[0m\u001b[1;33m.\u001b[0m\u001b[0mvalues\u001b[0m\u001b[1;33m,\u001b[0m \u001b[0mcolor\u001b[0m\u001b[1;33m=\u001b[0m\u001b[1;34m'blue'\u001b[0m\u001b[1;33m,\u001b[0m  \u001b[0mmarker\u001b[0m\u001b[1;33m=\u001b[0m\u001b[1;34m'o'\u001b[0m\u001b[1;33m,\u001b[0m \u001b[0mlinestyle\u001b[0m\u001b[1;33m=\u001b[0m\u001b[1;34m'dashed'\u001b[0m\u001b[1;33m,\u001b[0m\u001b[0mlabel\u001b[0m\u001b[1;33m=\u001b[0m\u001b[1;34m'Predicted Price'\u001b[0m\u001b[1;33m)\u001b[0m\u001b[1;33m\u001b[0m\u001b[1;33m\u001b[0m\u001b[0m\n\u001b[0m\u001b[0;32m     14\u001b[0m \u001b[0mplt\u001b[0m\u001b[1;33m.\u001b[0m\u001b[0mplot\u001b[0m\u001b[1;33m(\u001b[0m\u001b[0mtest_set_range\u001b[0m\u001b[1;33m,\u001b[0m \u001b[0mtd\u001b[0m\u001b[1;33m.\u001b[0m\u001b[0mPrice\u001b[0m\u001b[1;33m.\u001b[0m\u001b[0mvalues\u001b[0m\u001b[1;33m,\u001b[0m \u001b[0mcolor\u001b[0m\u001b[1;33m=\u001b[0m\u001b[1;34m'red'\u001b[0m\u001b[1;33m,\u001b[0m \u001b[0mlabel\u001b[0m\u001b[1;33m=\u001b[0m\u001b[1;34m'Actual Price'\u001b[0m\u001b[1;33m)\u001b[0m\u001b[1;33m\u001b[0m\u001b[1;33m\u001b[0m\u001b[0m\n\u001b[0;32m     15\u001b[0m \u001b[0mplt\u001b[0m\u001b[1;33m.\u001b[0m\u001b[0mfill_between\u001b[0m\u001b[1;33m(\u001b[0m\u001b[0mtest_set_range\u001b[0m\u001b[1;33m,\u001b[0m \u001b[0mtd\u001b[0m\u001b[1;33m.\u001b[0m\u001b[0mLower\u001b[0m\u001b[1;33m.\u001b[0m\u001b[0mvalues\u001b[0m\u001b[1;33m,\u001b[0m \u001b[0mtd\u001b[0m\u001b[1;33m.\u001b[0m\u001b[0mUpper\u001b[0m\u001b[1;33m.\u001b[0m\u001b[0mvalues\u001b[0m\u001b[1;33m,\u001b[0m \u001b[0mcolor\u001b[0m\u001b[1;33m=\u001b[0m\u001b[1;34m'k'\u001b[0m\u001b[1;33m,\u001b[0m \u001b[0malpha\u001b[0m\u001b[1;33m=\u001b[0m\u001b[1;36m.15\u001b[0m\u001b[1;33m)\u001b[0m\u001b[1;33m\u001b[0m\u001b[1;33m\u001b[0m\u001b[0m\n",
      "\u001b[1;31mNameError\u001b[0m: name 'test_set_range' is not defined"
     ]
    },
    {
     "data": {
      "text/plain": [
       "<Figure size 1440x504 with 0 Axes>"
      ]
     },
     "metadata": {},
     "output_type": "display_data"
    }
   ],
   "source": [
    "result = pd.DataFrame(model_predictions, index = df[int(len(df)*0.7):].index, columns = ['Forecast'])\n",
    "result[\"Actual\"] = test_data\n",
    "lo = [float(i) for i in lower]\n",
    "upp = [float(i) for i in upper]\n",
    "\n",
    "result[\"Lower\"] = lo\n",
    "result[\"Upper\"] = upp\n",
    "results = result[-50:]\n",
    "\n",
    "td_ = td[-50:]\n",
    "\n",
    "plt.figure(figsize=(20,7))\n",
    "plt.plot(test_set_range, td.Predictions.values, color='blue',  marker='o', linestyle='dashed',label='Predicted Price')\n",
    "plt.plot(test_set_range, td.Price.values, color='red', label='Actual Price')\n",
    "plt.fill_between(test_set_range, td.Lower.values, td.Upper.values, color='k', alpha=.15)\n",
    "#plt.plot(td)\n",
    "plt.title(f'{symbol} Prices Prediction')\n",
    "plt.xlabel('Date')\n",
    "plt.ylabel('Prices')\n",
    "#plt.xticks(np.arange(881,1259,50), df.Date[881:1259:50])\n",
    "plt.legend()\n",
    "plt.show()"
   ]
  },
  {
   "cell_type": "code",
   "execution_count": 20,
   "metadata": {
    "execution": {
     "iopub.execute_input": "2021-12-26T18:56:51.630330Z",
     "iopub.status.busy": "2021-12-26T18:56:51.630010Z",
     "iopub.status.idle": "2021-12-26T18:56:51.870173Z",
     "shell.execute_reply": "2021-12-26T18:56:51.867778Z",
     "shell.execute_reply.started": "2021-12-26T18:56:51.630294Z"
    }
   },
   "outputs": [
    {
     "ename": "NameError",
     "evalue": "name 'test_set_range' is not defined",
     "output_type": "error",
     "traceback": [
      "\u001b[1;31m---------------------------------------------------------------------------\u001b[0m",
      "\u001b[1;31mNameError\u001b[0m                                 Traceback (most recent call last)",
      "\u001b[1;32mC:\\Users\\RAIMIA~1\\AppData\\Local\\Temp/ipykernel_11460/1845609749.py\u001b[0m in \u001b[0;36m<module>\u001b[1;34m\u001b[0m\n\u001b[0;32m      2\u001b[0m \u001b[1;33m\u001b[0m\u001b[0m\n\u001b[0;32m      3\u001b[0m \u001b[0mplt\u001b[0m\u001b[1;33m.\u001b[0m\u001b[0mfigure\u001b[0m\u001b[1;33m(\u001b[0m\u001b[0mfigsize\u001b[0m\u001b[1;33m=\u001b[0m\u001b[1;33m(\u001b[0m\u001b[1;36m20\u001b[0m\u001b[1;33m,\u001b[0m\u001b[1;36m7\u001b[0m\u001b[1;33m)\u001b[0m\u001b[1;33m)\u001b[0m\u001b[1;33m\u001b[0m\u001b[1;33m\u001b[0m\u001b[0m\n\u001b[1;32m----> 4\u001b[1;33m \u001b[0mplt\u001b[0m\u001b[1;33m.\u001b[0m\u001b[0mplot\u001b[0m\u001b[1;33m(\u001b[0m\u001b[0mtest_set_range\u001b[0m\u001b[1;33m[\u001b[0m\u001b[1;33m-\u001b[0m\u001b[1;36m50\u001b[0m\u001b[1;33m:\u001b[0m\u001b[1;33m]\u001b[0m\u001b[1;33m,\u001b[0m \u001b[0mtd_\u001b[0m\u001b[1;33m.\u001b[0m\u001b[0mPredictions\u001b[0m\u001b[1;33m.\u001b[0m\u001b[0mvalues\u001b[0m\u001b[1;33m,\u001b[0m \u001b[0mcolor\u001b[0m\u001b[1;33m=\u001b[0m\u001b[1;34m'blue'\u001b[0m\u001b[1;33m,\u001b[0m  \u001b[0mmarker\u001b[0m\u001b[1;33m=\u001b[0m\u001b[1;34m'o'\u001b[0m\u001b[1;33m,\u001b[0m \u001b[0mlinestyle\u001b[0m\u001b[1;33m=\u001b[0m\u001b[1;34m'dashed'\u001b[0m\u001b[1;33m,\u001b[0m\u001b[0mlabel\u001b[0m\u001b[1;33m=\u001b[0m\u001b[1;34m'Predicted Price'\u001b[0m\u001b[1;33m)\u001b[0m\u001b[1;33m\u001b[0m\u001b[1;33m\u001b[0m\u001b[0m\n\u001b[0m\u001b[0;32m      5\u001b[0m \u001b[0mplt\u001b[0m\u001b[1;33m.\u001b[0m\u001b[0mplot\u001b[0m\u001b[1;33m(\u001b[0m\u001b[0mtest_set_range\u001b[0m\u001b[1;33m[\u001b[0m\u001b[1;33m-\u001b[0m\u001b[1;36m50\u001b[0m\u001b[1;33m:\u001b[0m\u001b[1;33m]\u001b[0m\u001b[1;33m,\u001b[0m \u001b[0mtd_\u001b[0m\u001b[1;33m.\u001b[0m\u001b[0mPrice\u001b[0m\u001b[1;33m.\u001b[0m\u001b[0mvalues\u001b[0m\u001b[1;33m,\u001b[0m \u001b[0mcolor\u001b[0m\u001b[1;33m=\u001b[0m\u001b[1;34m'red'\u001b[0m\u001b[1;33m,\u001b[0m \u001b[0mlabel\u001b[0m\u001b[1;33m=\u001b[0m\u001b[1;34m'Actual Price'\u001b[0m\u001b[1;33m)\u001b[0m\u001b[1;33m\u001b[0m\u001b[1;33m\u001b[0m\u001b[0m\n\u001b[0;32m      6\u001b[0m \u001b[0mplt\u001b[0m\u001b[1;33m.\u001b[0m\u001b[0mfill_between\u001b[0m\u001b[1;33m(\u001b[0m\u001b[0mtest_set_range\u001b[0m\u001b[1;33m[\u001b[0m\u001b[1;33m-\u001b[0m\u001b[1;36m50\u001b[0m\u001b[1;33m:\u001b[0m\u001b[1;33m]\u001b[0m\u001b[1;33m,\u001b[0m \u001b[0mtd_\u001b[0m\u001b[1;33m.\u001b[0m\u001b[0mLower\u001b[0m\u001b[1;33m.\u001b[0m\u001b[0mvalues\u001b[0m\u001b[1;33m,\u001b[0m \u001b[0mtd_\u001b[0m\u001b[1;33m.\u001b[0m\u001b[0mUpper\u001b[0m\u001b[1;33m.\u001b[0m\u001b[0mvalues\u001b[0m\u001b[1;33m,\u001b[0m \u001b[0mcolor\u001b[0m\u001b[1;33m=\u001b[0m\u001b[1;34m'k'\u001b[0m\u001b[1;33m,\u001b[0m \u001b[0malpha\u001b[0m\u001b[1;33m=\u001b[0m\u001b[1;36m.15\u001b[0m\u001b[1;33m)\u001b[0m\u001b[1;33m\u001b[0m\u001b[1;33m\u001b[0m\u001b[0m\n",
      "\u001b[1;31mNameError\u001b[0m: name 'test_set_range' is not defined"
     ]
    },
    {
     "data": {
      "text/plain": [
       "<Figure size 1440x504 with 0 Axes>"
      ]
     },
     "metadata": {},
     "output_type": "display_data"
    }
   ],
   "source": [
    "td_ = td[-50:]\n",
    "\n",
    "plt.figure(figsize=(20,7))\n",
    "plt.plot(test_set_range[-50:], td_.Predictions.values, color='blue',  marker='o', linestyle='dashed',label='Predicted Price')\n",
    "plt.plot(test_set_range[-50:], td_.Price.values, color='red', label='Actual Price')\n",
    "plt.fill_between(test_set_range[-50:], td_.Lower.values, td_.Upper.values, color='k', alpha=.15)\n",
    "#plt.plot(td)\n",
    "plt.title(f'{symbol} last 50 Prices Prediction')\n",
    "plt.xlabel('Date')\n",
    "plt.ylabel('Prices')\n",
    "#plt.xticks(np.arange(881,1259,50), df.Date[881:1259:50])\n",
    "plt.legend()\n",
    "plt.show()"
   ]
  },
  {
   "cell_type": "code",
   "execution_count": 21,
   "metadata": {
    "execution": {
     "iopub.execute_input": "2021-12-26T19:01:57.737477Z",
     "iopub.status.busy": "2021-12-26T19:01:57.736928Z",
     "iopub.status.idle": "2021-12-26T19:01:57.755465Z",
     "shell.execute_reply": "2021-12-26T19:01:57.754485Z",
     "shell.execute_reply.started": "2021-12-26T19:01:57.737425Z"
    }
   },
   "outputs": [
    {
     "data": {
      "text/plain": [
       "{'mape': 0.0021709724414152687,\n",
       " 'me': 0.04818288311702759,\n",
       " 'mae': 0.40552601971366115,\n",
       " 'mpe': 0.00028370811425440707,\n",
       " 'rmse': 0.6317938383251247,\n",
       " 'minmax': 0.0021643431108534505}"
      ]
     },
     "execution_count": 21,
     "metadata": {},
     "output_type": "execute_result"
    }
   ],
   "source": [
    "# Accuracy metrics\n",
    "def forecast_accuracy(forecast, actual):\n",
    "    mape = np.mean(np.abs(forecast - actual)/np.abs(actual))  # MAPE\n",
    "    me = np.mean(forecast - actual)             # ME\n",
    "    mae = np.mean(np.abs(forecast - actual))    # MAE\n",
    "    mpe = np.mean((forecast - actual)/actual)   # MPE\n",
    "    rmse = np.mean((forecast - actual)**2)**.5  # RMSE\n",
    "    #corr = np.corrcoef(forecast, actual)[0,1]   # corr\n",
    "    mins = np.amin(np.hstack([forecast[:,None], \n",
    "                              actual[:,None]]), axis=1)\n",
    "    maxs = np.amax(np.hstack([forecast[:,None], \n",
    "                              actual[:,None]]), axis=1)\n",
    "    minmax = 1 - np.mean(mins/maxs)             # minmax\n",
    "    #acf1 = acf(fc-test)[1]                      # ACF1\n",
    "    return({'mape':mape, 'me':me, 'mae': mae, \n",
    "            'mpe': mpe, 'rmse':rmse, 'minmax':minmax})\n",
    "\n",
    "forecast_accuracy(td.Predictions.values, td.Price.values)\n"
   ]
  },
  {
   "cell_type": "code",
   "execution_count": 22,
   "metadata": {
    "execution": {
     "iopub.execute_input": "2021-12-26T18:57:53.928801Z",
     "iopub.status.busy": "2021-12-26T18:57:53.928293Z",
     "iopub.status.idle": "2021-12-26T18:57:54.022353Z",
     "shell.execute_reply": "2021-12-26T18:57:54.021279Z",
     "shell.execute_reply.started": "2021-12-26T18:57:53.928764Z"
    }
   },
   "outputs": [
    {
     "data": {
      "text/plain": [
       "array([189.46314561])"
      ]
     },
     "execution_count": 22,
     "metadata": {},
     "output_type": "execute_result"
    }
   ],
   "source": [
    "#forcast next day\n",
    "#history = [x for x in training_data]\n",
    "next_model_predictions = []\n",
    "N_test_observations = len(td)\n",
    "model = ARIMA(td.Predictions.values, order=(4,1,0))\n",
    "model_fit = model.fit(disp=0)\n",
    "output = model_fit.forecast()\n",
    "yhat_ = output[0]\n",
    "yhat_"
   ]
  },
  {
   "cell_type": "markdown",
   "metadata": {},
   "source": [
    "# AUTO-ARIMA"
   ]
  },
  {
   "cell_type": "code",
   "execution_count": 27,
   "metadata": {
    "execution": {
     "iopub.execute_input": "2021-12-26T19:18:03.803270Z",
     "iopub.status.busy": "2021-12-26T19:18:03.802366Z",
     "iopub.status.idle": "2021-12-26T19:20:59.761820Z",
     "shell.execute_reply": "2021-12-26T19:20:59.760699Z",
     "shell.execute_reply.started": "2021-12-26T19:18:03.803220Z"
    }
   },
   "outputs": [
    {
     "name": "stdout",
     "output_type": "stream",
     "text": [
      "Performing stepwise search to minimize aic\n",
      " ARIMA(1,1,1)(0,0,0)[0] intercept   : AIC=15032.331, Time=2.83 sec\n",
      " ARIMA(0,1,0)(0,0,0)[0] intercept   : AIC=15079.047, Time=0.12 sec\n",
      " ARIMA(1,1,0)(0,0,0)[0] intercept   : AIC=15032.750, Time=0.40 sec\n",
      " ARIMA(0,1,1)(0,0,0)[0] intercept   : AIC=15035.602, Time=0.50 sec\n",
      " ARIMA(0,1,0)(0,0,0)[0]             : AIC=15079.252, Time=0.11 sec\n",
      " ARIMA(2,1,1)(0,0,0)[0] intercept   : AIC=15034.011, Time=2.04 sec\n",
      " ARIMA(1,1,2)(0,0,0)[0] intercept   : AIC=15033.824, Time=1.91 sec\n",
      " ARIMA(0,1,2)(0,0,0)[0] intercept   : AIC=15032.818, Time=0.80 sec\n",
      " ARIMA(2,1,0)(0,0,0)[0] intercept   : AIC=15032.089, Time=0.45 sec\n",
      " ARIMA(3,1,0)(0,0,0)[0] intercept   : AIC=15033.633, Time=0.80 sec\n",
      " ARIMA(3,1,1)(0,0,0)[0] intercept   : AIC=15009.569, Time=5.33 sec\n",
      " ARIMA(4,1,1)(0,0,0)[0] intercept   : AIC=14959.007, Time=5.15 sec\n",
      " ARIMA(4,1,0)(0,0,0)[0] intercept   : AIC=15020.947, Time=1.80 sec\n",
      " ARIMA(5,1,1)(0,0,0)[0] intercept   : AIC=14957.373, Time=4.85 sec\n",
      " ARIMA(5,1,0)(0,0,0)[0] intercept   : AIC=15021.227, Time=1.59 sec\n",
      " ARIMA(5,1,2)(0,0,0)[0] intercept   : AIC=14943.741, Time=10.87 sec\n",
      " ARIMA(4,1,2)(0,0,0)[0] intercept   : AIC=14956.314, Time=8.61 sec\n",
      " ARIMA(5,1,3)(0,0,0)[0] intercept   : AIC=inf, Time=15.74 sec\n",
      " ARIMA(4,1,3)(0,0,0)[0] intercept   : AIC=inf, Time=12.39 sec\n",
      " ARIMA(5,1,2)(0,0,0)[0]             : AIC=14950.251, Time=4.44 sec\n",
      "\n",
      "Best model:  ARIMA(5,1,2)(0,0,0)[0] intercept\n",
      "Total fit time: 80.787 seconds\n",
      "                               SARIMAX Results                                \n",
      "==============================================================================\n",
      "Dep. Variable:                      y   No. Observations:                 3589\n",
      "Model:               SARIMAX(5, 1, 2)   Log Likelihood               -7462.870\n",
      "Date:                Tue, 21 Jun 2022   AIC                          14943.741\n",
      "Time:                        14:48:54   BIC                          14999.409\n",
      "Sample:                             0   HQIC                         14963.583\n",
      "                               - 3589                                         \n",
      "Covariance Type:                  opg                                         \n",
      "==============================================================================\n",
      "                 coef    std err          z      P>|z|      [0.025      0.975]\n",
      "------------------------------------------------------------------------------\n",
      "intercept      0.0057      0.002      2.828      0.005       0.002       0.010\n",
      "ar.L1          0.0423      0.021      2.057      0.040       0.002       0.083\n",
      "ar.L2          0.8266      0.017     49.797      0.000       0.794       0.859\n",
      "ar.L3          0.0590      0.010      6.184      0.000       0.040       0.078\n",
      "ar.L4         -0.1118      0.008    -14.250      0.000      -0.127      -0.096\n",
      "ar.L5          0.0720      0.009      7.959      0.000       0.054       0.090\n",
      "ma.L1         -0.1446      0.020     -7.235      0.000      -0.184      -0.105\n",
      "ma.L2         -0.8015      0.018    -43.908      0.000      -0.837      -0.766\n",
      "sigma2         3.7506      0.030    123.346      0.000       3.691       3.810\n",
      "===================================================================================\n",
      "Ljung-Box (L1) (Q):                   0.04   Jarque-Bera (JB):             55500.42\n",
      "Prob(Q):                              0.84   Prob(JB):                         0.00\n",
      "Heteroskedasticity (H):              51.37   Skew:                            -0.41\n",
      "Prob(H) (two-sided):                  0.00   Kurtosis:                        22.25\n",
      "===================================================================================\n",
      "\n",
      "Warnings:\n",
      "[1] Covariance matrix calculated using the outer product of gradients (complex-step).\n"
     ]
    }
   ],
   "source": [
    "from statsmodels.tsa.arima_model import ARIMA\n",
    "import pmdarima as pm\n",
    "\n",
    "pmodel = pm.auto_arima(df.close, start_p=1, start_q=1,\n",
    "                      test='adf',       # use adftest to find optimal 'd'\n",
    "                      max_p=5, max_q=5, # maximum p and q\n",
    "                      m=1,              # frequency of series\n",
    "                      d=None,           # let model determine 'd'\n",
    "                      seasonal=True,   # No Seasonality\n",
    "                      start_P=0, \n",
    "                      D=0, \n",
    "                      trace=True,\n",
    "                      error_action='ignore',  \n",
    "                      suppress_warnings=True, \n",
    "                      stepwise=True)\n",
    "print(pmodel.summary())"
   ]
  },
  {
   "cell_type": "code",
   "execution_count": 24,
   "metadata": {
    "execution": {
     "iopub.execute_input": "2021-12-26T19:06:45.474809Z",
     "iopub.status.busy": "2021-12-26T19:06:45.474458Z",
     "iopub.status.idle": "2021-12-26T19:06:50.484184Z",
     "shell.execute_reply": "2021-12-26T19:06:50.483310Z",
     "shell.execute_reply.started": "2021-12-26T19:06:45.474767Z"
    }
   },
   "outputs": [
    {
     "name": "stderr",
     "output_type": "stream",
     "text": [
      "C:\\Users\\RaimiAzeez\\anaconda3\\lib\\site-packages\\statsmodels\\tsa\\arima_model.py:472: FutureWarning:\n",
      "\n",
      "\n",
      "statsmodels.tsa.arima_model.ARMA and statsmodels.tsa.arima_model.ARIMA have\n",
      "been deprecated in favor of statsmodels.tsa.arima.model.ARIMA (note the .\n",
      "between arima and model) and\n",
      "statsmodels.tsa.SARIMAX. These will be removed after the 0.12 release.\n",
      "\n",
      "statsmodels.tsa.arima.model.ARIMA makes use of the statespace framework and\n",
      "is both well tested and maintained.\n",
      "\n",
      "To silence this warning and continue using ARMA and ARIMA until they are\n",
      "removed, use:\n",
      "\n",
      "import warnings\n",
      "warnings.filterwarnings('ignore', 'statsmodels.tsa.arima_model.ARMA',\n",
      "                        FutureWarning)\n",
      "warnings.filterwarnings('ignore', 'statsmodels.tsa.arima_model.ARIMA',\n",
      "                        FutureWarning)\n",
      "\n",
      "\n"
     ]
    },
    {
     "name": "stdout",
     "output_type": "stream",
     "text": [
      "                             ARIMA Model Results                              \n",
      "==============================================================================\n",
      "Dep. Variable:                    D.y   No. Observations:                 3558\n",
      "Model:                 ARIMA(4, 1, 4)   Log Likelihood               -7307.630\n",
      "Method:                       css-mle   S.D. of innovations              1.887\n",
      "Date:                Tue, 21 Jun 2022   AIC                          14635.261\n",
      "Time:                        14:43:50   BIC                          14697.030\n",
      "Sample:                             1   HQIC                         14657.287\n",
      "                                                                              \n",
      "==============================================================================\n",
      "                 coef    std err          z      P>|z|      [0.025      0.975]\n",
      "------------------------------------------------------------------------------\n",
      "const          0.0552      0.015      3.746      0.000       0.026       0.084\n",
      "ar.L1.D.y     -0.5618      1.945     -0.289      0.773      -4.375       3.251\n",
      "ar.L2.D.y      0.9565      1.593      0.600      0.548      -2.166       4.079\n",
      "ar.L3.D.y      0.6581      1.454      0.453      0.651      -2.191       3.507\n",
      "ar.L4.D.y     -0.2182      1.655     -0.132      0.895      -3.462       3.025\n",
      "ma.L1.D.y      0.4665      1.946      0.240      0.811      -3.347       4.280\n",
      "ma.L2.D.y     -1.0098      1.407     -0.718      0.473      -3.768       1.748\n",
      "ma.L3.D.y     -0.5825      1.607     -0.362      0.717      -3.733       2.568\n",
      "ma.L4.D.y      0.2025      1.546      0.131      0.896      -2.828       3.233\n",
      "                                    Roots                                    \n",
      "=============================================================================\n",
      "                  Real          Imaginary           Modulus         Frequency\n",
      "-----------------------------------------------------------------------------\n",
      "AR.1           -0.9715           -0.4020j            1.0513           -0.4376\n",
      "AR.2           -0.9715           +0.4020j            1.0513            0.4376\n",
      "AR.3            1.0647           -0.0000j            1.0647           -0.0000\n",
      "AR.4            3.8940           -0.0000j            3.8940           -0.0000\n",
      "MA.1           -1.0355           -0.3891j            1.1062           -0.4428\n",
      "MA.2           -1.0355           +0.3891j            1.1062            0.4428\n",
      "MA.3            1.0302           -0.0000j            1.0302           -0.0000\n",
      "MA.4            3.9180           -0.0000j            3.9180           -0.0000\n",
      "-----------------------------------------------------------------------------\n"
     ]
    },
    {
     "data": {
      "image/png": "[encoded data removed]",
      "text/plain": [
       "<Figure size 1200x500 with 1 Axes>"
      ]
     },
     "metadata": {
      "needs_background": "light"
     },
     "output_type": "display_data"
    },
    {
     "data": {
      "text/html": [
       "<div>\n",
       "<style scoped>\n",
       "    .dataframe tbody tr th:only-of-type {\n",
       "        vertical-align: middle;\n",
       "    }\n",
       "\n",
       "    .dataframe tbody tr th {\n",
       "        vertical-align: top;\n",
       "    }\n",
       "\n",
       "    .dataframe thead th {\n",
       "        text-align: right;\n",
       "    }\n",
       "</style>\n",
       "<table border=\"1\" class=\"dataframe\">\n",
       "  <thead>\n",
       "    <tr style=\"text-align: right;\">\n",
       "      <th></th>\n",
       "      <th>Forecast</th>\n",
       "      <th>Actual</th>\n",
       "      <th>Lower</th>\n",
       "      <th>Upper</th>\n",
       "    </tr>\n",
       "    <tr>\n",
       "      <th>Date</th>\n",
       "      <th></th>\n",
       "      <th></th>\n",
       "      <th></th>\n",
       "      <th></th>\n",
       "    </tr>\n",
       "  </thead>\n",
       "  <tbody>\n",
       "    <tr>\n",
       "      <th>2022-06-06</th>\n",
       "      <td>210.954619</td>\n",
       "      <td>212.940002</td>\n",
       "      <td>198.124635</td>\n",
       "      <td>223.784604</td>\n",
       "    </tr>\n",
       "    <tr>\n",
       "      <th>2022-06-07</th>\n",
       "      <td>212.088469</td>\n",
       "      <td>214.500000</td>\n",
       "      <td>199.059161</td>\n",
       "      <td>225.117777</td>\n",
       "    </tr>\n",
       "    <tr>\n",
       "      <th>2022-06-08</th>\n",
       "      <td>211.282462</td>\n",
       "      <td>213.500000</td>\n",
       "      <td>198.083763</td>\n",
       "      <td>224.481161</td>\n",
       "    </tr>\n",
       "    <tr>\n",
       "      <th>2022-06-09</th>\n",
       "      <td>212.181284</td>\n",
       "      <td>206.110001</td>\n",
       "      <td>198.798742</td>\n",
       "      <td>225.563825</td>\n",
       "    </tr>\n",
       "    <tr>\n",
       "      <th>2022-06-10</th>\n",
       "      <td>211.819810</td>\n",
       "      <td>199.509995</td>\n",
       "      <td>198.277477</td>\n",
       "      <td>225.362143</td>\n",
       "    </tr>\n",
       "    <tr>\n",
       "      <th>2022-06-13</th>\n",
       "      <td>212.113863</td>\n",
       "      <td>192.259995</td>\n",
       "      <td>198.405902</td>\n",
       "      <td>225.821823</td>\n",
       "    </tr>\n",
       "    <tr>\n",
       "      <th>2022-06-14</th>\n",
       "      <td>212.379472</td>\n",
       "      <td>193.520004</td>\n",
       "      <td>198.516262</td>\n",
       "      <td>226.242681</td>\n",
       "    </tr>\n",
       "    <tr>\n",
       "      <th>2022-06-15</th>\n",
       "      <td>212.086623</td>\n",
       "      <td>196.160004</td>\n",
       "      <td>198.074703</td>\n",
       "      <td>226.098542</td>\n",
       "    </tr>\n",
       "    <tr>\n",
       "      <th>2022-06-16</th>\n",
       "      <td>212.786732</td>\n",
       "      <td>189.050003</td>\n",
       "      <td>198.623585</td>\n",
       "      <td>226.949880</td>\n",
       "    </tr>\n",
       "    <tr>\n",
       "      <th>2022-06-17</th>\n",
       "      <td>212.233083</td>\n",
       "      <td>190.009995</td>\n",
       "      <td>197.933676</td>\n",
       "      <td>226.532491</td>\n",
       "    </tr>\n",
       "  </tbody>\n",
       "</table>\n",
       "</div>"
      ],
      "text/plain": [
       "              Forecast      Actual       Lower       Upper\n",
       "Date                                                      \n",
       "2022-06-06  210.954619  212.940002  198.124635  223.784604\n",
       "2022-06-07  212.088469  214.500000  199.059161  225.117777\n",
       "2022-06-08  211.282462  213.500000  198.083763  224.481161\n",
       "2022-06-09  212.181284  206.110001  198.798742  225.563825\n",
       "2022-06-10  211.819810  199.509995  198.277477  225.362143\n",
       "2022-06-13  212.113863  192.259995  198.405902  225.821823\n",
       "2022-06-14  212.379472  193.520004  198.516262  226.242681\n",
       "2022-06-15  212.086623  196.160004  198.074703  226.098542\n",
       "2022-06-16  212.786732  189.050003  198.623585  226.949880\n",
       "2022-06-17  212.233083  190.009995  197.933676  226.532491"
      ]
     },
     "execution_count": 24,
     "metadata": {},
     "output_type": "execute_result"
    }
   ],
   "source": [
    "from statsmodels.tsa.stattools import acf\n",
    "import warnings\n",
    "warnings.filterwarnings('ignore', 'statsmodels.tsa.arima_model.ARMA',\n",
    "                        FutureWarning)\n",
    "\n",
    "# Create Training and Test\n",
    "split = 30\n",
    "train, test = df.close[:(len(df) - split)], df.close[-split:]\n",
    "\n",
    "\n",
    "# Build Model\n",
    "model = ARIMA(train.values.reshape(-1).tolist(), order=(4,1,4))  \n",
    "#model = ARIMA(train.values.reshape(-1).tolist(), order=(0, 1, 0))  \n",
    "fitted = model.fit(disp=-1) \n",
    "print(fitted.summary())\n",
    "\n",
    "# Forecast\n",
    "fc, se, conf = fitted.forecast(len(test), alpha=0.05)  # 95% conf\n",
    "\n",
    "# Make as pandas series\n",
    "fc_series = pd.Series(fc, index = test.index)\n",
    "lower_series = pd.Series(conf[:, 0], index = test.index)\n",
    "upper_series = pd.Series(conf[:, 1], index = test.index)\n",
    "\n",
    "# Plot\n",
    "plt.figure(figsize=(12,5), dpi=100)\n",
    "#plt.plot(train, label='training')\n",
    "plt.plot(test, label='actual')\n",
    "plt.plot(fc_series, label='forecast')\n",
    "plt.fill_between(lower_series.index, lower_series, upper_series, \n",
    "                 color='k', alpha=.15)\n",
    "plt.title('Forecast vs Actuals')\n",
    "plt.legend(loc='upper left', fontsize=8)\n",
    "plt.show()\n",
    "\n",
    "result = pd.DataFrame(fc_series, index = test.index, columns = ['Forecast'])\n",
    "result[\"Actual\"] = test.values\n",
    "result[\"Lower\"] = lower_series\n",
    "result[\"Upper\"] = upper_series\n",
    "result.tail(10)"
   ]
  },
  {
   "cell_type": "code",
   "execution_count": 25,
   "metadata": {
    "execution": {
     "iopub.execute_input": "2021-12-26T19:21:45.515914Z",
     "iopub.status.busy": "2021-12-26T19:21:45.515554Z",
     "iopub.status.idle": "2021-12-26T19:21:45.535701Z",
     "shell.execute_reply": "2021-12-26T19:21:45.534784Z",
     "shell.execute_reply.started": "2021-12-26T19:21:45.515876Z"
    }
   },
   "outputs": [
    {
     "name": "stderr",
     "output_type": "stream",
     "text": [
      "C:\\Users\\RaimiAzeez\\anaconda3\\lib\\site-packages\\statsmodels\\tsa\\stattools.py:657: FutureWarning:\n",
      "\n",
      "The default number of lags is changing from 40 tomin(int(10 * np.log10(nobs)), nobs - 1) after 0.12is released. Set the number of lags to an integer to  silence this warning.\n",
      "\n",
      "C:\\Users\\RaimiAzeez\\anaconda3\\lib\\site-packages\\statsmodels\\tsa\\stattools.py:667: FutureWarning:\n",
      "\n",
      "fft=True will become the default after the release of the 0.12 release of statsmodels. To suppress this warning, explicitly set fft=False.\n",
      "\n"
     ]
    },
    {
     "data": {
      "text/plain": [
       "{'mape': 0.04534229092857319,\n",
       " 'me': 7.8822446864526565,\n",
       " 'mae': 8.920083913406216,\n",
       " 'mpe': 0.04048652619428996,\n",
       " 'rmse': 11.068923070266534,\n",
       " 'acf1': 0.7749811650509033,\n",
       " 'corr': 0.20949216606296103,\n",
       " 'minmax': 0.04237993427254061}"
      ]
     },
     "execution_count": 25,
     "metadata": {},
     "output_type": "execute_result"
    }
   ],
   "source": [
    "# Accuracy metrics\n",
    "def forecast_accuracy(forecast, actual):\n",
    "    mape = np.mean(np.abs(forecast - actual)/np.abs(actual))  # MAPE\n",
    "    me = np.mean(forecast - actual)             # ME\n",
    "    mae = np.mean(np.abs(forecast - actual))    # MAE\n",
    "    mpe = np.mean((forecast - actual)/actual)   # MPE\n",
    "    rmse = np.mean((forecast - actual)**2)**.5  # RMSE\n",
    "    corr = np.corrcoef(forecast, actual)[0,1]   # corr\n",
    "    mins = np.amin(np.hstack([forecast[:,None], \n",
    "                              actual[:,None]]), axis=1)\n",
    "    maxs = np.amax(np.hstack([forecast[:,None], \n",
    "                              actual[:,None]]), axis=1)\n",
    "    minmax = 1 - np.mean(mins/maxs)             # minmax\n",
    "    acf1 = acf(fc-test)[1]                      # ACF1\n",
    "    return({'mape':mape, 'me':me, 'mae': mae, \n",
    "            'mpe': mpe, 'rmse':rmse, 'acf1':acf1, \n",
    "            'corr':corr, 'minmax':minmax})\n",
    "\n",
    "forecast_accuracy(fc, test.values)\n"
   ]
  },
  {
   "cell_type": "code",
   "execution_count": 28,
   "metadata": {
    "execution": {
     "iopub.execute_input": "2021-12-26T19:31:26.745529Z",
     "iopub.status.busy": "2021-12-26T19:31:26.745051Z",
     "iopub.status.idle": "2021-12-26T19:31:27.333387Z",
     "shell.execute_reply": "2021-12-26T19:31:27.332570Z",
     "shell.execute_reply.started": "2021-12-26T19:31:26.745495Z"
    }
   },
   "outputs": [
    {
     "name": "stderr",
     "output_type": "stream",
     "text": [
      "C:\\Users\\RaimiAzeez\\anaconda3\\lib\\site-packages\\statsmodels\\graphics\\gofplots.py:993: UserWarning:\n",
      "\n",
      "marker is redundantly defined by the 'marker' keyword argument and the fmt string \"bo\" (-> marker='o'). The keyword argument will take precedence.\n",
      "\n"
     ]
    },
    {
     "data": {
      "image/png": "[encoded data removed]",
      "text/plain": [
       "<Figure size 720x360 with 4 Axes>"
      ]
     },
     "metadata": {
      "needs_background": "light"
     },
     "output_type": "display_data"
    }
   ],
   "source": [
    "pmodel.plot_diagnostics(figsize=(10,5))\n",
    "plt.show()"
   ]
  },
  {
   "cell_type": "code",
   "execution_count": 31,
   "metadata": {
    "execution": {
     "iopub.execute_input": "2021-12-26T19:30:45.473274Z",
     "iopub.status.busy": "2021-12-26T19:30:45.472978Z",
     "iopub.status.idle": "2021-12-26T19:30:45.726912Z",
     "shell.execute_reply": "2021-12-26T19:30:45.725999Z",
     "shell.execute_reply.started": "2021-12-26T19:30:45.473234Z"
    }
   },
   "outputs": [
    {
     "data": {
      "image/png": "[encoded data removed]",
      "text/plain": [
       "<Figure size 1440x504 with 1 Axes>"
      ]
     },
     "metadata": {
      "needs_background": "light"
     },
     "output_type": "display_data"
    }
   ],
   "source": [
    "# Forecast\n",
    "n_periods = 100\n",
    "fc, confint = pmodel.predict(n_periods=n_periods, return_conf_int=True)\n",
    "index_of_fc = np.arange(len(df.close), len(df.close)+n_periods)\n",
    "\n",
    "# make series for plotting purpose\n",
    "fc_series = pd.Series(fc, index=index_of_fc)\n",
    "lower_series = pd.Series(confint[:, 0], index=index_of_fc)\n",
    "upper_series = pd.Series(confint[:, 1], index=index_of_fc)\n",
    "\n",
    "# Plot\n",
    "\n",
    "plt.figure(figsize=(20,7))\n",
    "plt.plot(df.close.values)\n",
    "plt.plot(fc_series, color='darkgreen')\n",
    "plt.fill_between(lower_series.index, \n",
    "                 lower_series, \n",
    "                 upper_series, \n",
    "                 color='k', alpha=.15)\n",
    "\n",
    "plt.title(\"Final Forecast of WWW Usage\")\n",
    "plt.show()\n"
   ]
  },
  {
   "cell_type": "code",
   "execution_count": null,
   "metadata": {
    "execution": {
     "iopub.execute_input": "2021-12-26T19:31:06.433828Z",
     "iopub.status.busy": "2021-12-26T19:31:06.432756Z",
     "iopub.status.idle": "2021-12-26T19:31:06.441634Z",
     "shell.execute_reply": "2021-12-26T19:31:06.440888Z",
     "shell.execute_reply.started": "2021-12-26T19:31:06.433785Z"
    }
   },
   "outputs": [],
   "source": [
    "fc_series"
   ]
  },
  {
   "cell_type": "code",
   "execution_count": null,
   "metadata": {},
   "outputs": [],
   "source": []
  }
 ],
 "metadata": {
  "kernelspec": {
   "display_name": "Python 3 (ipykernel)",
   "language": "python",
   "name": "python3"
  },
  "language_info": {
   "codemirror_mode": {
    "name": "ipython",
    "version": 3
   },
   "file_extension": ".py",
   "mimetype": "text/x-python",
   "name": "python",
   "nbconvert_exporter": "python",
   "pygments_lexer": "ipython3",
   "version": "3.9.7"
  }
 },
 "nbformat": 4,
 "nbformat_minor": 4
}
